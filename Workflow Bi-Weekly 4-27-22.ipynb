{
 "cells": [
  {
   "cell_type": "markdown",
   "id": "91a70281-a3b6-4be1-93ec-e9a0396a5723",
   "metadata": {
    "tags": []
   },
   "source": [
    "<font size=\"4\"><b>Download data from BigQuery"
   ]
  },
  {
   "cell_type": "code",
   "execution_count": null,
   "id": "4cb2ac29-52b1-4343-876a-bc4c821d25b3",
   "metadata": {},
   "outputs": [],
   "source": [
    "#Install packages and load libraries\n",
    "install.packages('bigrquery')\n",
    "\n",
    "library(bigrquery)"
   ]
  },
  {
   "cell_type": "code",
   "execution_count": null,
   "id": "ff98a322-846e-47a6-8b1a-a98029cfe1cf",
   "metadata": {
    "tags": []
   },
   "outputs": [],
   "source": [
    "#Store the project ID\n",
    "projectid = \"wf-gcp-us-ae-central-prod\"\n",
    "\n",
    "#Set your query\n",
    "sql = \"SELECT *\n",
    "\tFROM wf-gcp-us-ae-ops-prod.demand_forecastingstrategy.tbl_sprid_histdata \n",
    "\tWHERE Lag = 2 AND Country = 'US' AND ForecastForDate='2022-05-01'AND Publish>100\"\n",
    "\n",
    "\n",
    "#Download data as dataframe\n",
    "df=as.data.frame(bq_table_download(bq_project_query(projectid, sql)))\n",
    "df"
   ]
  },
  {
   "cell_type": "markdown",
   "id": "8829509c-30a6-4cc6-a22c-e2806fbbce36",
   "metadata": {},
   "source": [
    "<font size=\"4\"><b>Save data to BigQuery"
   ]
  },
  {
   "cell_type": "code",
   "execution_count": null,
   "id": "bf02f7fb-d320-4765-a0d6-ff53f3d7f931",
   "metadata": {
    "tags": []
   },
   "outputs": [],
   "source": [
    "#Create BQ table\n",
    "table = bq_table(project = \"wf-gcp-us-ae-central-prod\", dataset = \"tempdb\", table = \"AA\")\n",
    "bq_table_create(x = table, fields = as_bq_fields(df))\n",
    "bq_table_upload(x = table, values = df)"
   ]
  },
  {
   "cell_type": "markdown",
   "id": "7d3340e8-eca0-4bff-95d5-dd04173e7d93",
   "metadata": {},
   "source": [
    "<font size=\"4\"><b>Download csv/parquet file from Google Cloud Storage (GCS)\n",
    "\n",
    "1. Use when the dataset is too large to query directly from BigQuery\n",
    "2. Find/create the table in BigQuery and save into GCS;\n",
    "    click on table -> Export -> Export to GCS\n",
    "3. NOTE: If table > 1GB you will need to add '*' after the file name to save as multiple files. GCS only allows single files up to 1GB."
   ]
  },
  {
   "cell_type": "code",
   "execution_count": null,
   "id": "d50625b2-c867-4b8e-b5bd-fd70822cc209",
   "metadata": {
    "tags": []
   },
   "outputs": [],
   "source": [
    "#Install packages and load libraries\n",
    "install.packages('tfdatasets')\n",
    "install.packages('cloudml')\n",
    "install.packages('readr')\n",
    "install.packages('rlist')\n",
    "install.packages('plyr')\n",
    "install.packages('dplyr')\n",
    "install.packages('arrow')\n",
    "\n",
    "library(tfdatasets)\n",
    "library(cloudml)\n",
    "library(readr)\n",
    "library(rlist)\n",
    "library(plyr)\n",
    "library(dplyr)\n",
    "library(arrow)"
   ]
  },
  {
   "cell_type": "code",
   "execution_count": null,
   "id": "ffd90511-634d-4e00-9c4f-33b1eb2a1aa7",
   "metadata": {
    "tags": []
   },
   "outputs": [],
   "source": [
    "#Load single csv file from google cloud storage\n",
    "directory=gs_data_dir_local(\"gs://wf-ae-central-temp/rmitchell5/Example_csv\")\n",
    "df=read_csv(file.path(directory, 'test000000000000'))\n",
    "df"
   ]
  },
  {
   "cell_type": "code",
   "execution_count": null,
   "id": "4acd09ae-09ee-4173-bfdf-b6048d3685e2",
   "metadata": {
    "tags": []
   },
   "outputs": [],
   "source": [
    "#Load and rbind every csv file in a folder at once from google cloud storage\n",
    "directory=gs_data_dir_local(\"gs://wf-ae-central-temp/rmitchell5/Example_csv\")\n",
    "myfiles = list.files(directory, pattern=\"*\", full.names=TRUE)\n",
    "df = ldply(myfiles, read_csv)\n",
    "df"
   ]
  },
  {
   "cell_type": "code",
   "execution_count": null,
   "id": "b7c7c813-bbd9-4798-acbf-0076dbed8806",
   "metadata": {
    "tags": []
   },
   "outputs": [],
   "source": [
    "#Load single parquet file from google cloud storage\n",
    "directory=gs_data_dir_local(\"gs://wf-ae-central-temp/rmitchell5/Example_parquet\")\n",
    "df=read_parquet(file.path(directory, 'test000000000000'))\n",
    "df"
   ]
  },
  {
   "cell_type": "code",
   "execution_count": null,
   "id": "829de91f-f048-4f5c-bc1d-b6f39b94ebab",
   "metadata": {},
   "outputs": [],
   "source": [
    "#Load and rbind every parquet file in a folder at once from google cloud storage\n",
    "directory=gs_data_dir_local(\"gs://wf-ae-central-temp/rmitchell5/Example_parquet\")\n",
    "myfiles = list.files(directory, pattern=\"*\", full.names=TRUE)\n",
    "df = ldply(myfiles, read_parquet)\n",
    "df"
   ]
  },
  {
   "cell_type": "markdown",
   "id": "28f4742b-d8c6-4765-a661-1887ef9dc368",
   "metadata": {},
   "source": [
    "<font size=\"4\"><b>Store important data\n"
   ]
  },
  {
   "cell_type": "code",
   "execution_count": null,
   "id": "cffef024-fae7-44bd-a52c-b9baf725f117",
   "metadata": {},
   "outputs": [],
   "source": [
    "write.csv(df[1:100,], \"df_save\")\n",
    "df=read.csv('df_save')"
   ]
  },
  {
   "cell_type": "markdown",
   "id": "6fd2e3fe-4f0a-430d-9dcd-5b43780b83bf",
   "metadata": {},
   "source": [
    "<font size=\"4\"><b>Format code based on tidyverse style guide\n"
   ]
  },
  {
   "cell_type": "code",
   "execution_count": null,
   "id": "c6d7120d-0d6a-45c8-8809-e34dadc355de",
   "metadata": {},
   "outputs": [],
   "source": [
    "install.packages(\"styler\")\n",
    "install.packages('prettycode')\n",
    "\n",
    "library(styler)\n",
    "library(prettycode)"
   ]
  },
  {
   "cell_type": "code",
   "execution_count": null,
   "id": "2bb800c0-a3b6-4d6a-bef6-8a9697afcfb5",
   "metadata": {},
   "outputs": [],
   "source": [
    "#bad code formatting  \n",
    "for   (i   in 1  :3)  { print(   i )  }"
   ]
  },
  {
   "cell_type": "code",
   "execution_count": null,
   "id": "92b5019f-1b84-4748-82c6-58e454d729c1",
   "metadata": {},
   "outputs": [],
   "source": [
    "#paste code into function\n",
    "style_text('for   (i   in 1  :3)  { print(   i )  }')"
   ]
  }
 ],
 "metadata": {
  "environment": {
   "kernel": "ir",
   "name": "r-cpu.4-0.m80",
   "type": "gcloud",
   "uri": "gcr.io/deeplearning-platform-release/r-cpu.4-0:m80"
  },
  "kernelspec": {
   "display_name": "R",
   "language": "R",
   "name": "ir"
  },
  "language_info": {
   "codemirror_mode": "r",
   "file_extension": ".r",
   "mimetype": "text/x-r-source",
   "name": "R",
   "pygments_lexer": "r",
   "version": "3.5.2"
  }
 },
 "nbformat": 4,
 "nbformat_minor": 5
}
